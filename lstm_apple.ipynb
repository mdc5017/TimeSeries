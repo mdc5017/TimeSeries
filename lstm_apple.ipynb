{
 "cells": [
  {
   "attachments": {},
   "cell_type": "markdown",
   "metadata": {},
   "source": [
    "https://towardsdatascience.com/step-by-step-guide-building-a-prediction-model-in-python-ac441e8b9e8b"
   ]
  },
  {
   "cell_type": "code",
   "execution_count": 1,
   "metadata": {},
   "outputs": [
    {
     "name": "stderr",
     "output_type": "stream",
     "text": [
      "2023-05-06 19:07:35.385046: I tensorflow/core/platform/cpu_feature_guard.cc:193] This TensorFlow binary is optimized with oneAPI Deep Neural Network Library (oneDNN) to use the following CPU instructions in performance-critical operations:  AVX2 FMA\n",
      "To enable them in other operations, rebuild TensorFlow with the appropriate compiler flags.\n"
     ]
    }
   ],
   "source": [
    "import pandas as pd\n",
    "import numpy as np\n",
    "import matplotlib.pyplot as plt\n",
    "%matplotlib inline\n",
    "from matplotlib.pylab import rcParams\n",
    "rcParams['figure.figsize']=20,10\n",
    "from keras.models import Sequential\n",
    "from keras.layers import LSTM,Dropout,Dense\n",
    "from sklearn.preprocessing import MinMaxScaler"
   ]
  },
  {
   "cell_type": "code",
   "execution_count": 2,
   "metadata": {},
   "outputs": [
    {
     "data": {
      "text/html": [
       "<div>\n",
       "<style scoped>\n",
       "    .dataframe tbody tr th:only-of-type {\n",
       "        vertical-align: middle;\n",
       "    }\n",
       "\n",
       "    .dataframe tbody tr th {\n",
       "        vertical-align: top;\n",
       "    }\n",
       "\n",
       "    .dataframe thead th {\n",
       "        text-align: right;\n",
       "    }\n",
       "</style>\n",
       "<table border=\"1\" class=\"dataframe\">\n",
       "  <thead>\n",
       "    <tr style=\"text-align: right;\">\n",
       "      <th></th>\n",
       "      <th>Date</th>\n",
       "      <th>Close/Last</th>\n",
       "      <th>Volume</th>\n",
       "      <th>Open</th>\n",
       "      <th>High</th>\n",
       "      <th>Low</th>\n",
       "    </tr>\n",
       "  </thead>\n",
       "  <tbody>\n",
       "    <tr>\n",
       "      <th>0</th>\n",
       "      <td>04/12/2023</td>\n",
       "      <td>$160.10</td>\n",
       "      <td>50133060</td>\n",
       "      <td>$161.22</td>\n",
       "      <td>$162.06</td>\n",
       "      <td>$159.78</td>\n",
       "    </tr>\n",
       "    <tr>\n",
       "      <th>1</th>\n",
       "      <td>04/11/2023</td>\n",
       "      <td>$160.80</td>\n",
       "      <td>47644220</td>\n",
       "      <td>$162.35</td>\n",
       "      <td>$162.36</td>\n",
       "      <td>$160.51</td>\n",
       "    </tr>\n",
       "    <tr>\n",
       "      <th>2</th>\n",
       "      <td>04/10/2023</td>\n",
       "      <td>$162.03</td>\n",
       "      <td>47716880</td>\n",
       "      <td>$161.42</td>\n",
       "      <td>$162.03</td>\n",
       "      <td>$160.08</td>\n",
       "    </tr>\n",
       "    <tr>\n",
       "      <th>3</th>\n",
       "      <td>04/06/2023</td>\n",
       "      <td>$164.66</td>\n",
       "      <td>45390120</td>\n",
       "      <td>$162.43</td>\n",
       "      <td>$164.9584</td>\n",
       "      <td>$162.00</td>\n",
       "    </tr>\n",
       "    <tr>\n",
       "      <th>4</th>\n",
       "      <td>04/05/2023</td>\n",
       "      <td>$163.76</td>\n",
       "      <td>51511740</td>\n",
       "      <td>$164.74</td>\n",
       "      <td>$165.05</td>\n",
       "      <td>$161.80</td>\n",
       "    </tr>\n",
       "  </tbody>\n",
       "</table>\n",
       "</div>"
      ],
      "text/plain": [
       "         Date Close/Last    Volume     Open       High      Low\n",
       "0  04/12/2023    $160.10  50133060  $161.22    $162.06  $159.78\n",
       "1  04/11/2023    $160.80  47644220  $162.35    $162.36  $160.51\n",
       "2  04/10/2023    $162.03  47716880  $161.42    $162.03  $160.08\n",
       "3  04/06/2023    $164.66  45390120  $162.43  $164.9584  $162.00\n",
       "4  04/05/2023    $163.76  51511740  $164.74    $165.05  $161.80"
      ]
     },
     "execution_count": 2,
     "metadata": {},
     "output_type": "execute_result"
    }
   ],
   "source": [
    "df = pd.read_csv('/Users/mcardonasanchez/Desktop/Online Courses/The-Data-Science-Course-2021-All-Resources/Other/data/aapl_stock_lyr.csv')\n",
    "df.head()"
   ]
  },
  {
   "cell_type": "code",
   "execution_count": 3,
   "metadata": {},
   "outputs": [
    {
     "data": {
      "text/html": [
       "<div>\n",
       "<style scoped>\n",
       "    .dataframe tbody tr th:only-of-type {\n",
       "        vertical-align: middle;\n",
       "    }\n",
       "\n",
       "    .dataframe tbody tr th {\n",
       "        vertical-align: top;\n",
       "    }\n",
       "\n",
       "    .dataframe thead th {\n",
       "        text-align: right;\n",
       "    }\n",
       "</style>\n",
       "<table border=\"1\" class=\"dataframe\">\n",
       "  <thead>\n",
       "    <tr style=\"text-align: right;\">\n",
       "      <th></th>\n",
       "      <th>Date</th>\n",
       "      <th>Close/Last</th>\n",
       "      <th>Volume</th>\n",
       "      <th>Open</th>\n",
       "      <th>High</th>\n",
       "      <th>Low</th>\n",
       "    </tr>\n",
       "  </thead>\n",
       "  <tbody>\n",
       "    <tr>\n",
       "      <th>245</th>\n",
       "      <td>04/20/2022</td>\n",
       "      <td>$167.23</td>\n",
       "      <td>67929810</td>\n",
       "      <td>$168.76</td>\n",
       "      <td>$168.88</td>\n",
       "      <td>$166.10</td>\n",
       "    </tr>\n",
       "    <tr>\n",
       "      <th>246</th>\n",
       "      <td>04/19/2022</td>\n",
       "      <td>$167.40</td>\n",
       "      <td>67723830</td>\n",
       "      <td>$165.02</td>\n",
       "      <td>$167.82</td>\n",
       "      <td>$163.91</td>\n",
       "    </tr>\n",
       "    <tr>\n",
       "      <th>247</th>\n",
       "      <td>04/18/2022</td>\n",
       "      <td>$165.07</td>\n",
       "      <td>69023940</td>\n",
       "      <td>$163.92</td>\n",
       "      <td>$166.5984</td>\n",
       "      <td>$163.57</td>\n",
       "    </tr>\n",
       "    <tr>\n",
       "      <th>248</th>\n",
       "      <td>04/14/2022</td>\n",
       "      <td>$165.29</td>\n",
       "      <td>75329380</td>\n",
       "      <td>$170.62</td>\n",
       "      <td>$171.27</td>\n",
       "      <td>$165.04</td>\n",
       "    </tr>\n",
       "    <tr>\n",
       "      <th>249</th>\n",
       "      <td>04/13/2022</td>\n",
       "      <td>$170.40</td>\n",
       "      <td>70618930</td>\n",
       "      <td>$167.39</td>\n",
       "      <td>$171.04</td>\n",
       "      <td>$166.77</td>\n",
       "    </tr>\n",
       "  </tbody>\n",
       "</table>\n",
       "</div>"
      ],
      "text/plain": [
       "           Date Close/Last    Volume     Open       High      Low\n",
       "245  04/20/2022    $167.23  67929810  $168.76    $168.88  $166.10\n",
       "246  04/19/2022    $167.40  67723830  $165.02    $167.82  $163.91\n",
       "247  04/18/2022    $165.07  69023940  $163.92  $166.5984  $163.57\n",
       "248  04/14/2022    $165.29  75329380  $170.62    $171.27  $165.04\n",
       "249  04/13/2022    $170.40  70618930  $167.39    $171.04  $166.77"
      ]
     },
     "execution_count": 3,
     "metadata": {},
     "output_type": "execute_result"
    }
   ],
   "source": [
    "df.tail()"
   ]
  },
  {
   "cell_type": "code",
   "execution_count": 4,
   "metadata": {},
   "outputs": [
    {
     "data": {
      "text/html": [
       "<div>\n",
       "<style scoped>\n",
       "    .dataframe tbody tr th:only-of-type {\n",
       "        vertical-align: middle;\n",
       "    }\n",
       "\n",
       "    .dataframe tbody tr th {\n",
       "        vertical-align: top;\n",
       "    }\n",
       "\n",
       "    .dataframe thead th {\n",
       "        text-align: right;\n",
       "    }\n",
       "</style>\n",
       "<table border=\"1\" class=\"dataframe\">\n",
       "  <thead>\n",
       "    <tr style=\"text-align: right;\">\n",
       "      <th></th>\n",
       "      <th>Date</th>\n",
       "      <th>Close</th>\n",
       "    </tr>\n",
       "  </thead>\n",
       "  <tbody>\n",
       "    <tr>\n",
       "      <th>0</th>\n",
       "      <td>04/12/2023</td>\n",
       "      <td>$160.10</td>\n",
       "    </tr>\n",
       "    <tr>\n",
       "      <th>1</th>\n",
       "      <td>04/11/2023</td>\n",
       "      <td>$160.80</td>\n",
       "    </tr>\n",
       "    <tr>\n",
       "      <th>2</th>\n",
       "      <td>04/10/2023</td>\n",
       "      <td>$162.03</td>\n",
       "    </tr>\n",
       "    <tr>\n",
       "      <th>3</th>\n",
       "      <td>04/06/2023</td>\n",
       "      <td>$164.66</td>\n",
       "    </tr>\n",
       "    <tr>\n",
       "      <th>4</th>\n",
       "      <td>04/05/2023</td>\n",
       "      <td>$163.76</td>\n",
       "    </tr>\n",
       "  </tbody>\n",
       "</table>\n",
       "</div>"
      ],
      "text/plain": [
       "         Date    Close\n",
       "0  04/12/2023  $160.10\n",
       "1  04/11/2023  $160.80\n",
       "2  04/10/2023  $162.03\n",
       "3  04/06/2023  $164.66\n",
       "4  04/05/2023  $163.76"
      ]
     },
     "execution_count": 4,
     "metadata": {},
     "output_type": "execute_result"
    }
   ],
   "source": [
    "df = df[['Date', 'Close/Last']]\n",
    "df = df.rename(columns={'Close/Last': 'Close'})\n",
    "df.head()"
   ]
  },
  {
   "cell_type": "code",
   "execution_count": 5,
   "metadata": {},
   "outputs": [
    {
     "data": {
      "text/plain": [
       "Date     object\n",
       "Close    object\n",
       "dtype: object"
      ]
     },
     "execution_count": 5,
     "metadata": {},
     "output_type": "execute_result"
    }
   ],
   "source": [
    "df.dtypes"
   ]
  },
  {
   "cell_type": "code",
   "execution_count": 6,
   "metadata": {},
   "outputs": [
    {
     "data": {
      "text/plain": [
       "Date     datetime64[ns]\n",
       "Close           float64\n",
       "dtype: object"
      ]
     },
     "execution_count": 6,
     "metadata": {},
     "output_type": "execute_result"
    }
   ],
   "source": [
    "df = df.replace({'\\$':''}, regex=True)\n",
    "df = df.astype({'Close': float})\n",
    "df['Date'] = pd.to_datetime(df['Date'], format='%m/%d/%Y')\n",
    "df.dtypes"
   ]
  },
  {
   "cell_type": "code",
   "execution_count": 7,
   "metadata": {},
   "outputs": [
    {
     "data": {
      "text/plain": [
       "[<matplotlib.lines.Line2D at 0x7fc411798d30>]"
      ]
     },
     "execution_count": 7,
     "metadata": {},
     "output_type": "execute_result"
    },
    {
     "data": {
      "image/png": "[encoded data removed]",
      "text/plain": [
       "<Figure size 1000x500 with 1 Axes>"
      ]
     },
     "metadata": {},
     "output_type": "display_data"
    }
   ],
   "source": [
    "df.index = df['Date']\n",
    "fig, ax = plt.subplots(figsize=(10,5))\n",
    "plt.plot(df['Close'], label='Close price history')"
   ]
  },
  {
   "cell_type": "code",
   "execution_count": 8,
   "metadata": {},
   "outputs": [
    {
     "data": {
      "text/html": [
       "<div>\n",
       "<style scoped>\n",
       "    .dataframe tbody tr th:only-of-type {\n",
       "        vertical-align: middle;\n",
       "    }\n",
       "\n",
       "    .dataframe tbody tr th {\n",
       "        vertical-align: top;\n",
       "    }\n",
       "\n",
       "    .dataframe thead th {\n",
       "        text-align: right;\n",
       "    }\n",
       "</style>\n",
       "<table border=\"1\" class=\"dataframe\">\n",
       "  <thead>\n",
       "    <tr style=\"text-align: right;\">\n",
       "      <th></th>\n",
       "      <th>Date</th>\n",
       "      <th>Close</th>\n",
       "    </tr>\n",
       "  </thead>\n",
       "  <tbody>\n",
       "    <tr>\n",
       "      <th>0</th>\n",
       "      <td>2022-04-13 00:00:00</td>\n",
       "      <td>170.4</td>\n",
       "    </tr>\n",
       "    <tr>\n",
       "      <th>1</th>\n",
       "      <td>2022-04-14 00:00:00</td>\n",
       "      <td>165.29</td>\n",
       "    </tr>\n",
       "    <tr>\n",
       "      <th>2</th>\n",
       "      <td>2022-04-18 00:00:00</td>\n",
       "      <td>165.07</td>\n",
       "    </tr>\n",
       "    <tr>\n",
       "      <th>3</th>\n",
       "      <td>2022-04-19 00:00:00</td>\n",
       "      <td>167.4</td>\n",
       "    </tr>\n",
       "    <tr>\n",
       "      <th>4</th>\n",
       "      <td>2022-04-20 00:00:00</td>\n",
       "      <td>167.23</td>\n",
       "    </tr>\n",
       "  </tbody>\n",
       "</table>\n",
       "</div>"
      ],
      "text/plain": [
       "                  Date   Close\n",
       "0  2022-04-13 00:00:00   170.4\n",
       "1  2022-04-14 00:00:00  165.29\n",
       "2  2022-04-18 00:00:00  165.07\n",
       "3  2022-04-19 00:00:00   167.4\n",
       "4  2022-04-20 00:00:00  167.23"
      ]
     },
     "execution_count": 8,
     "metadata": {},
     "output_type": "execute_result"
    }
   ],
   "source": [
    "df = df.sort_index(ascending=True, axis=0)\n",
    "data = pd.DataFrame(index=range(0,len(df)), columns=['Date', 'Close'])\n",
    "\n",
    "for i in range(0,len(data)):\n",
    "    data['Date'][i] = df['Date'][i]\n",
    "    data['Close'][i] = df['Close'][i]\n",
    "data.head()"
   ]
  },
  {
   "cell_type": "code",
   "execution_count": 9,
   "metadata": {},
   "outputs": [
    {
     "data": {
      "text/html": [
       "<div>\n",
       "<style scoped>\n",
       "    .dataframe tbody tr th:only-of-type {\n",
       "        vertical-align: middle;\n",
       "    }\n",
       "\n",
       "    .dataframe tbody tr th {\n",
       "        vertical-align: top;\n",
       "    }\n",
       "\n",
       "    .dataframe thead th {\n",
       "        text-align: right;\n",
       "    }\n",
       "</style>\n",
       "<table border=\"1\" class=\"dataframe\">\n",
       "  <thead>\n",
       "    <tr style=\"text-align: right;\">\n",
       "      <th></th>\n",
       "      <th>Date</th>\n",
       "      <th>Close</th>\n",
       "    </tr>\n",
       "    <tr>\n",
       "      <th>Date</th>\n",
       "      <th></th>\n",
       "      <th></th>\n",
       "    </tr>\n",
       "  </thead>\n",
       "  <tbody>\n",
       "    <tr>\n",
       "      <th>2022-04-13</th>\n",
       "      <td>2022-04-13</td>\n",
       "      <td>170.40</td>\n",
       "    </tr>\n",
       "    <tr>\n",
       "      <th>2022-04-14</th>\n",
       "      <td>2022-04-14</td>\n",
       "      <td>165.29</td>\n",
       "    </tr>\n",
       "    <tr>\n",
       "      <th>2022-04-18</th>\n",
       "      <td>2022-04-18</td>\n",
       "      <td>165.07</td>\n",
       "    </tr>\n",
       "    <tr>\n",
       "      <th>2022-04-19</th>\n",
       "      <td>2022-04-19</td>\n",
       "      <td>167.40</td>\n",
       "    </tr>\n",
       "    <tr>\n",
       "      <th>2022-04-20</th>\n",
       "      <td>2022-04-20</td>\n",
       "      <td>167.23</td>\n",
       "    </tr>\n",
       "  </tbody>\n",
       "</table>\n",
       "</div>"
      ],
      "text/plain": [
       "                 Date   Close\n",
       "Date                         \n",
       "2022-04-13 2022-04-13  170.40\n",
       "2022-04-14 2022-04-14  165.29\n",
       "2022-04-18 2022-04-18  165.07\n",
       "2022-04-19 2022-04-19  167.40\n",
       "2022-04-20 2022-04-20  167.23"
      ]
     },
     "execution_count": 9,
     "metadata": {},
     "output_type": "execute_result"
    }
   ],
   "source": [
    "data = df\n",
    "data.head()"
   ]
  },
  {
   "attachments": {},
   "cell_type": "markdown",
   "metadata": {},
   "source": [
    "Min-Max Scaler"
   ]
  },
  {
   "cell_type": "code",
   "execution_count": 10,
   "metadata": {},
   "outputs": [],
   "source": [
    "scaler = MinMaxScaler(feature_range=(0,1))\n",
    "\n",
    "data.index = data.Date\n",
    "data.drop('Date', axis=1, inplace=True)\n",
    "\n",
    "final_data = data.values\n",
    "\n",
    "train_data = final_data[0:200,:] # 200\n",
    "valid_data = final_data[200:,:] # 50\n",
    "\n",
    "scaler = MinMaxScaler(feature_range=(0,1))\n",
    "\n",
    "scaled_data = scaler.fit_transform(final_data)\n",
    "x_train_data, y_train_data = [], []\n",
    "for i in range(60, len(train_data)):\n",
    "    # take 60 previous observations as x\n",
    "    x_train_data.append(scaled_data[i-60:i, 0])\n",
    "    # take last observation in the 60 window as y\n",
    "    y_train_data.append(scaled_data[i,0])\n"
   ]
  },
  {
   "cell_type": "code",
   "execution_count": 11,
   "metadata": {},
   "outputs": [],
   "source": [
    "x_train_data = np.array(x_train_data)\n",
    "y_train_data = np.array(y_train_data)"
   ]
  },
  {
   "cell_type": "code",
   "execution_count": 12,
   "metadata": {},
   "outputs": [
    {
     "data": {
      "text/plain": [
       "(140, 60)"
      ]
     },
     "execution_count": 12,
     "metadata": {},
     "output_type": "execute_result"
    }
   ],
   "source": [
    "x_train_data.shape"
   ]
  },
  {
   "attachments": {},
   "cell_type": "markdown",
   "metadata": {},
   "source": [
    "LSTM Model"
   ]
  },
  {
   "attachments": {},
   "cell_type": "markdown",
   "metadata": {},
   "source": [
    "LSTM models work great when making predictions based on time-series datasets.\\\n",
    "Units: dimensionality of output space\\\n",
    "Return_sequences: whether to return the last output in the output sequence, or the full sequence\\"
   ]
  },
  {
   "cell_type": "code",
   "execution_count": 17,
   "metadata": {},
   "outputs": [
    {
     "name": "stderr",
     "output_type": "stream",
     "text": [
      "2023-05-01 09:11:51.653823: I tensorflow/core/platform/cpu_feature_guard.cc:193] This TensorFlow binary is optimized with oneAPI Deep Neural Network Library (oneDNN) to use the following CPU instructions in performance-critical operations:  AVX2 FMA\n",
      "To enable them in other operations, rebuild TensorFlow with the appropriate compiler flags.\n"
     ]
    }
   ],
   "source": [
    "lstm_model = Sequential()\n",
    "lstm_model.add(LSTM(units=50, return_sequences=50, input_shape=(np.shape(x_train_data)[1],1)))\n",
    "lstm_model.add(LSTM(units=50))\n",
    "lstm_model.add(Dense(1))\n",
    "\n",
    "model_data = data[len(data)-len(valid_data)-60:].values # 250 - 50 - 60 -> 140:250\n",
    "model_data = model_data.reshape(-1,1)\n",
    "model_data = scaler.transform(model_data)"
   ]
  },
  {
   "cell_type": "code",
   "execution_count": 18,
   "metadata": {},
   "outputs": [
    {
     "data": {
      "text/plain": [
       "(110, 1)"
      ]
     },
     "execution_count": 18,
     "metadata": {},
     "output_type": "execute_result"
    }
   ],
   "source": [
    "model_data.shape"
   ]
  },
  {
   "attachments": {},
   "cell_type": "markdown",
   "metadata": {},
   "source": [
    "Train and Test Data"
   ]
  },
  {
   "cell_type": "code",
   "execution_count": 31,
   "metadata": {},
   "outputs": [
    {
     "name": "stdout",
     "output_type": "stream",
     "text": [
      "Epoch 1/20\n",
      "140/140 - 5s - loss: 0.0083 - 5s/epoch - 36ms/step\n",
      "Epoch 2/20\n",
      "140/140 - 2s - loss: 0.0069 - 2s/epoch - 16ms/step\n",
      "Epoch 3/20\n",
      "140/140 - 2s - loss: 0.0067 - 2s/epoch - 15ms/step\n",
      "Epoch 4/20\n",
      "140/140 - 2s - loss: 0.0072 - 2s/epoch - 15ms/step\n",
      "Epoch 5/20\n",
      "140/140 - 2s - loss: 0.0062 - 2s/epoch - 15ms/step\n",
      "Epoch 6/20\n",
      "140/140 - 2s - loss: 0.0054 - 2s/epoch - 18ms/step\n",
      "Epoch 7/20\n",
      "140/140 - 2s - loss: 0.0064 - 2s/epoch - 15ms/step\n",
      "Epoch 8/20\n",
      "140/140 - 2s - loss: 0.0051 - 2s/epoch - 15ms/step\n",
      "Epoch 9/20\n",
      "140/140 - 2s - loss: 0.0050 - 2s/epoch - 15ms/step\n",
      "Epoch 10/20\n",
      "140/140 - 2s - loss: 0.0050 - 2s/epoch - 15ms/step\n",
      "Epoch 11/20\n",
      "140/140 - 2s - loss: 0.0048 - 2s/epoch - 15ms/step\n",
      "Epoch 12/20\n",
      "140/140 - 2s - loss: 0.0054 - 2s/epoch - 15ms/step\n",
      "Epoch 13/20\n",
      "140/140 - 2s - loss: 0.0048 - 2s/epoch - 15ms/step\n",
      "Epoch 14/20\n",
      "140/140 - 2s - loss: 0.0051 - 2s/epoch - 15ms/step\n",
      "Epoch 15/20\n",
      "140/140 - 2s - loss: 0.0060 - 2s/epoch - 15ms/step\n",
      "Epoch 16/20\n",
      "140/140 - 2s - loss: 0.0055 - 2s/epoch - 16ms/step\n",
      "Epoch 17/20\n",
      "140/140 - 2s - loss: 0.0054 - 2s/epoch - 16ms/step\n",
      "Epoch 18/20\n",
      "140/140 - 2s - loss: 0.0049 - 2s/epoch - 16ms/step\n",
      "Epoch 19/20\n",
      "140/140 - 2s - loss: 0.0047 - 2s/epoch - 16ms/step\n",
      "Epoch 20/20\n",
      "140/140 - 3s - loss: 0.0048 - 3s/epoch - 20ms/step\n"
     ]
    }
   ],
   "source": [
    "# adam: stochastic gradient descent method\n",
    "lstm_model.compile(loss='mean_squared_error',optimizer='adam')\n",
    "lstm_model.fit(x_train_data,y_train_data,epochs=20,batch_size=1,verbose=2)\n",
    "\n",
    "X_test = []\n",
    "for i in range(60, model_data.shape[0]):\n",
    "    X_test.append(model_data[i-60:i,0]) # for the last 50 values, get their 60 previous window\n",
    "X_test = np.array(X_test)\n",
    "X_test = np.reshape(X_test, (X_test.shape[0], X_test.shape[1],1))"
   ]
  },
  {
   "attachments": {},
   "cell_type": "markdown",
   "metadata": {},
   "source": [
    "Prediction Function"
   ]
  },
  {
   "cell_type": "code",
   "execution_count": 32,
   "metadata": {},
   "outputs": [
    {
     "data": {
      "text/plain": [
       "(50, 60, 1)"
      ]
     },
     "execution_count": 32,
     "metadata": {},
     "output_type": "execute_result"
    }
   ],
   "source": [
    "X_test.shape"
   ]
  },
  {
   "cell_type": "code",
   "execution_count": 33,
   "metadata": {},
   "outputs": [
    {
     "name": "stdout",
     "output_type": "stream",
     "text": [
      "2/2 [==============================] - 1s 9ms/step\n"
     ]
    }
   ],
   "source": [
    "predicted_stock_price = lstm_model.predict(X_test)\n",
    "predicted_stock_price = scaler.inverse_transform(predicted_stock_price)"
   ]
  },
  {
   "cell_type": "code",
   "execution_count": 34,
   "metadata": {},
   "outputs": [
    {
     "name": "stderr",
     "output_type": "stream",
     "text": [
      "/var/folders/vt/10z3pk5n06vgby_lx927m_6w0000gp/T/ipykernel_58487/573915457.py:3: SettingWithCopyWarning: \n",
      "A value is trying to be set on a copy of a slice from a DataFrame.\n",
      "Try using .loc[row_indexer,col_indexer] = value instead\n",
      "\n",
      "See the caveats in the documentation: https://pandas.pydata.org/pandas-docs/stable/user_guide/indexing.html#returning-a-view-versus-a-copy\n",
      "  valid_data['Predictions'] = predicted_stock_price\n"
     ]
    },
    {
     "data": {
      "text/plain": [
       "<matplotlib.legend.Legend at 0x7fd4004ecf10>"
      ]
     },
     "execution_count": 34,
     "metadata": {},
     "output_type": "execute_result"
    },
    {
     "data": {
      "image/png": "[encoded data removed]",
      "text/plain": [
       "<Figure size 1000x500 with 1 Axes>"
      ]
     },
     "metadata": {},
     "output_type": "display_data"
    }
   ],
   "source": [
    "train_data = data[:200]\n",
    "valid_data = data[200:]\n",
    "valid_data['Predictions'] = predicted_stock_price\n",
    "fig, ax = plt.subplots(figsize=(10,5))\n",
    "plt.plot(train_data['Close'])\n",
    "plt.plot(valid_data[['Close', 'Predictions']])\n",
    "plt.legend(['Train','Actual', 'Predicted'])"
   ]
  },
  {
   "cell_type": "code",
   "execution_count": 35,
   "metadata": {},
   "outputs": [
    {
     "data": {
      "text/html": [
       "<div>\n",
       "<style scoped>\n",
       "    .dataframe tbody tr th:only-of-type {\n",
       "        vertical-align: middle;\n",
       "    }\n",
       "\n",
       "    .dataframe tbody tr th {\n",
       "        vertical-align: top;\n",
       "    }\n",
       "\n",
       "    .dataframe thead th {\n",
       "        text-align: right;\n",
       "    }\n",
       "</style>\n",
       "<table border=\"1\" class=\"dataframe\">\n",
       "  <thead>\n",
       "    <tr style=\"text-align: right;\">\n",
       "      <th></th>\n",
       "      <th>Close</th>\n",
       "      <th>Tomorrow</th>\n",
       "    </tr>\n",
       "    <tr>\n",
       "      <th>Date</th>\n",
       "      <th></th>\n",
       "      <th></th>\n",
       "    </tr>\n",
       "  </thead>\n",
       "  <tbody>\n",
       "    <tr>\n",
       "      <th>2022-04-13</th>\n",
       "      <td>170.40</td>\n",
       "      <td>NaN</td>\n",
       "    </tr>\n",
       "    <tr>\n",
       "      <th>2022-04-14</th>\n",
       "      <td>165.29</td>\n",
       "      <td>170.40</td>\n",
       "    </tr>\n",
       "    <tr>\n",
       "      <th>2022-04-18</th>\n",
       "      <td>165.07</td>\n",
       "      <td>165.29</td>\n",
       "    </tr>\n",
       "    <tr>\n",
       "      <th>2022-04-19</th>\n",
       "      <td>167.40</td>\n",
       "      <td>165.07</td>\n",
       "    </tr>\n",
       "    <tr>\n",
       "      <th>2022-04-20</th>\n",
       "      <td>167.23</td>\n",
       "      <td>167.40</td>\n",
       "    </tr>\n",
       "    <tr>\n",
       "      <th>...</th>\n",
       "      <td>...</td>\n",
       "      <td>...</td>\n",
       "    </tr>\n",
       "    <tr>\n",
       "      <th>2023-04-05</th>\n",
       "      <td>163.76</td>\n",
       "      <td>165.63</td>\n",
       "    </tr>\n",
       "    <tr>\n",
       "      <th>2023-04-06</th>\n",
       "      <td>164.66</td>\n",
       "      <td>163.76</td>\n",
       "    </tr>\n",
       "    <tr>\n",
       "      <th>2023-04-10</th>\n",
       "      <td>162.03</td>\n",
       "      <td>164.66</td>\n",
       "    </tr>\n",
       "    <tr>\n",
       "      <th>2023-04-11</th>\n",
       "      <td>160.80</td>\n",
       "      <td>162.03</td>\n",
       "    </tr>\n",
       "    <tr>\n",
       "      <th>2023-04-12</th>\n",
       "      <td>160.10</td>\n",
       "      <td>160.80</td>\n",
       "    </tr>\n",
       "  </tbody>\n",
       "</table>\n",
       "<p>250 rows × 2 columns</p>\n",
       "</div>"
      ],
      "text/plain": [
       "             Close  Tomorrow\n",
       "Date                        \n",
       "2022-04-13  170.40       NaN\n",
       "2022-04-14  165.29    170.40\n",
       "2022-04-18  165.07    165.29\n",
       "2022-04-19  167.40    165.07\n",
       "2022-04-20  167.23    167.40\n",
       "...            ...       ...\n",
       "2023-04-05  163.76    165.63\n",
       "2023-04-06  164.66    163.76\n",
       "2023-04-10  162.03    164.66\n",
       "2023-04-11  160.80    162.03\n",
       "2023-04-12  160.10    160.80\n",
       "\n",
       "[250 rows x 2 columns]"
      ]
     },
     "execution_count": 35,
     "metadata": {},
     "output_type": "execute_result"
    }
   ],
   "source": [
    "df"
   ]
  },
  {
   "cell_type": "code",
   "execution_count": 36,
   "metadata": {},
   "outputs": [
    {
     "data": {
      "text/html": [
       "<div>\n",
       "<style scoped>\n",
       "    .dataframe tbody tr th:only-of-type {\n",
       "        vertical-align: middle;\n",
       "    }\n",
       "\n",
       "    .dataframe tbody tr th {\n",
       "        vertical-align: top;\n",
       "    }\n",
       "\n",
       "    .dataframe thead th {\n",
       "        text-align: right;\n",
       "    }\n",
       "</style>\n",
       "<table border=\"1\" class=\"dataframe\">\n",
       "  <thead>\n",
       "    <tr style=\"text-align: right;\">\n",
       "      <th></th>\n",
       "      <th>Today</th>\n",
       "      <th>Tomorrow</th>\n",
       "    </tr>\n",
       "    <tr>\n",
       "      <th>Date</th>\n",
       "      <th></th>\n",
       "      <th></th>\n",
       "    </tr>\n",
       "  </thead>\n",
       "  <tbody>\n",
       "    <tr>\n",
       "      <th>2022-04-14</th>\n",
       "      <td>165.29</td>\n",
       "      <td>170.40</td>\n",
       "    </tr>\n",
       "    <tr>\n",
       "      <th>2022-04-18</th>\n",
       "      <td>165.07</td>\n",
       "      <td>165.29</td>\n",
       "    </tr>\n",
       "    <tr>\n",
       "      <th>2022-04-19</th>\n",
       "      <td>167.40</td>\n",
       "      <td>165.07</td>\n",
       "    </tr>\n",
       "    <tr>\n",
       "      <th>2022-04-20</th>\n",
       "      <td>167.23</td>\n",
       "      <td>167.40</td>\n",
       "    </tr>\n",
       "    <tr>\n",
       "      <th>2022-04-21</th>\n",
       "      <td>166.42</td>\n",
       "      <td>167.23</td>\n",
       "    </tr>\n",
       "    <tr>\n",
       "      <th>...</th>\n",
       "      <td>...</td>\n",
       "      <td>...</td>\n",
       "    </tr>\n",
       "    <tr>\n",
       "      <th>2023-04-05</th>\n",
       "      <td>163.76</td>\n",
       "      <td>165.63</td>\n",
       "    </tr>\n",
       "    <tr>\n",
       "      <th>2023-04-06</th>\n",
       "      <td>164.66</td>\n",
       "      <td>163.76</td>\n",
       "    </tr>\n",
       "    <tr>\n",
       "      <th>2023-04-10</th>\n",
       "      <td>162.03</td>\n",
       "      <td>164.66</td>\n",
       "    </tr>\n",
       "    <tr>\n",
       "      <th>2023-04-11</th>\n",
       "      <td>160.80</td>\n",
       "      <td>162.03</td>\n",
       "    </tr>\n",
       "    <tr>\n",
       "      <th>2023-04-12</th>\n",
       "      <td>160.10</td>\n",
       "      <td>160.80</td>\n",
       "    </tr>\n",
       "  </tbody>\n",
       "</table>\n",
       "<p>249 rows × 2 columns</p>\n",
       "</div>"
      ],
      "text/plain": [
       "             Today  Tomorrow\n",
       "Date                        \n",
       "2022-04-14  165.29    170.40\n",
       "2022-04-18  165.07    165.29\n",
       "2022-04-19  167.40    165.07\n",
       "2022-04-20  167.23    167.40\n",
       "2022-04-21  166.42    167.23\n",
       "...            ...       ...\n",
       "2023-04-05  163.76    165.63\n",
       "2023-04-06  164.66    163.76\n",
       "2023-04-10  162.03    164.66\n",
       "2023-04-11  160.80    162.03\n",
       "2023-04-12  160.10    160.80\n",
       "\n",
       "[249 rows x 2 columns]"
      ]
     },
     "execution_count": 36,
     "metadata": {},
     "output_type": "execute_result"
    }
   ],
   "source": [
    "new_df = df\n",
    "new_df['Tomorrow'] = new_df['Close'].shift(1)\n",
    "new_df = new_df.rename(columns={'Close':'Today'})\n",
    "new_df = new_df.drop(new_df.index[0])\n",
    "new_df"
   ]
  },
  {
   "cell_type": "code",
   "execution_count": 37,
   "metadata": {},
   "outputs": [
    {
     "data": {
      "text/html": [
       "<div>\n",
       "<style scoped>\n",
       "    .dataframe tbody tr th:only-of-type {\n",
       "        vertical-align: middle;\n",
       "    }\n",
       "\n",
       "    .dataframe tbody tr th {\n",
       "        vertical-align: top;\n",
       "    }\n",
       "\n",
       "    .dataframe thead th {\n",
       "        text-align: right;\n",
       "    }\n",
       "</style>\n",
       "<table border=\"1\" class=\"dataframe\">\n",
       "  <thead>\n",
       "    <tr style=\"text-align: right;\">\n",
       "      <th></th>\n",
       "      <th>Today</th>\n",
       "      <th>Tomorrow</th>\n",
       "      <th>Daily_change</th>\n",
       "    </tr>\n",
       "    <tr>\n",
       "      <th>Date</th>\n",
       "      <th></th>\n",
       "      <th></th>\n",
       "      <th></th>\n",
       "    </tr>\n",
       "  </thead>\n",
       "  <tbody>\n",
       "    <tr>\n",
       "      <th>2022-04-14</th>\n",
       "      <td>165.29</td>\n",
       "      <td>170.40</td>\n",
       "      <td>0.030447</td>\n",
       "    </tr>\n",
       "    <tr>\n",
       "      <th>2022-04-18</th>\n",
       "      <td>165.07</td>\n",
       "      <td>165.29</td>\n",
       "      <td>0.001332</td>\n",
       "    </tr>\n",
       "    <tr>\n",
       "      <th>2022-04-19</th>\n",
       "      <td>167.40</td>\n",
       "      <td>165.07</td>\n",
       "      <td>-0.014017</td>\n",
       "    </tr>\n",
       "    <tr>\n",
       "      <th>2022-04-20</th>\n",
       "      <td>167.23</td>\n",
       "      <td>167.40</td>\n",
       "      <td>0.001016</td>\n",
       "    </tr>\n",
       "    <tr>\n",
       "      <th>2022-04-21</th>\n",
       "      <td>166.42</td>\n",
       "      <td>167.23</td>\n",
       "      <td>0.004855</td>\n",
       "    </tr>\n",
       "    <tr>\n",
       "      <th>...</th>\n",
       "      <td>...</td>\n",
       "      <td>...</td>\n",
       "      <td>...</td>\n",
       "    </tr>\n",
       "    <tr>\n",
       "      <th>2023-04-05</th>\n",
       "      <td>163.76</td>\n",
       "      <td>165.63</td>\n",
       "      <td>0.011354</td>\n",
       "    </tr>\n",
       "    <tr>\n",
       "      <th>2023-04-06</th>\n",
       "      <td>164.66</td>\n",
       "      <td>163.76</td>\n",
       "      <td>-0.005481</td>\n",
       "    </tr>\n",
       "    <tr>\n",
       "      <th>2023-04-10</th>\n",
       "      <td>162.03</td>\n",
       "      <td>164.66</td>\n",
       "      <td>0.016101</td>\n",
       "    </tr>\n",
       "    <tr>\n",
       "      <th>2023-04-11</th>\n",
       "      <td>160.80</td>\n",
       "      <td>162.03</td>\n",
       "      <td>0.007620</td>\n",
       "    </tr>\n",
       "    <tr>\n",
       "      <th>2023-04-12</th>\n",
       "      <td>160.10</td>\n",
       "      <td>160.80</td>\n",
       "      <td>0.004363</td>\n",
       "    </tr>\n",
       "  </tbody>\n",
       "</table>\n",
       "<p>249 rows × 3 columns</p>\n",
       "</div>"
      ],
      "text/plain": [
       "             Today  Tomorrow  Daily_change\n",
       "Date                                      \n",
       "2022-04-14  165.29    170.40      0.030447\n",
       "2022-04-18  165.07    165.29      0.001332\n",
       "2022-04-19  167.40    165.07     -0.014017\n",
       "2022-04-20  167.23    167.40      0.001016\n",
       "2022-04-21  166.42    167.23      0.004855\n",
       "...            ...       ...           ...\n",
       "2023-04-05  163.76    165.63      0.011354\n",
       "2023-04-06  164.66    163.76     -0.005481\n",
       "2023-04-10  162.03    164.66      0.016101\n",
       "2023-04-11  160.80    162.03      0.007620\n",
       "2023-04-12  160.10    160.80      0.004363\n",
       "\n",
       "[249 rows x 3 columns]"
      ]
     },
     "execution_count": 37,
     "metadata": {},
     "output_type": "execute_result"
    }
   ],
   "source": [
    "new_df['Daily_change'] = np.log(new_df['Tomorrow']/new_df['Today'])\n",
    "new_df"
   ]
  },
  {
   "cell_type": "code",
   "execution_count": 38,
   "metadata": {},
   "outputs": [
    {
     "data": {
      "text/plain": [
       "(array([ 2.,  0.,  2., 16., 48., 68., 65., 27., 15.,  6.]),\n",
       " array([-0.08523649, -0.07066567, -0.05609486, -0.04152404, -0.02695323,\n",
       "        -0.01238241,  0.0021884 ,  0.01675922,  0.03133003,  0.04590085,\n",
       "         0.06047166]),\n",
       " <BarContainer object of 10 artists>)"
      ]
     },
     "execution_count": 38,
     "metadata": {},
     "output_type": "execute_result"
    },
    {
     "data": {
      "image/png": "[encoded data removed]",
      "text/plain": [
       "<Figure size 1000x500 with 1 Axes>"
      ]
     },
     "metadata": {},
     "output_type": "display_data"
    }
   ],
   "source": [
    "fig, ax = plt.subplots(figsize=(10,5))\n",
    "plt.hist(new_df['Daily_change'])"
   ]
  },
  {
   "cell_type": "code",
   "execution_count": 39,
   "metadata": {},
   "outputs": [
    {
     "name": "stdout",
     "output_type": "stream",
     "text": [
      "0.0002504015839058085 0.0004720226859927409\n"
     ]
    }
   ],
   "source": [
    "expected_return = np.mean(new_df['Daily_change'])\n",
    "volatility = np.var(new_df['Daily_change'])\n",
    "print(expected_return, volatility)"
   ]
  },
  {
   "cell_type": "code",
   "execution_count": 40,
   "metadata": {},
   "outputs": [
    {
     "data": {
      "text/plain": [
       "0.011525390149041314"
      ]
     },
     "execution_count": 40,
     "metadata": {},
     "output_type": "execute_result"
    }
   ],
   "source": [
    "expected_return/np.sqrt(volatility)"
   ]
  },
  {
   "cell_type": "code",
   "execution_count": null,
   "metadata": {},
   "outputs": [],
   "source": []
  }
 ],
 "metadata": {
  "kernelspec": {
   "display_name": "ds-env",
   "language": "python",
   "name": "python3"
  },
  "language_info": {
   "codemirror_mode": {
    "name": "ipython",
    "version": 3
   },
   "file_extension": ".py",
   "mimetype": "text/x-python",
   "name": "python",
   "nbconvert_exporter": "python",
   "pygments_lexer": "ipython3",
   "version": "3.9.13"
  },
  "orig_nbformat": 4,
  "vscode": {
   "interpreter": {
    "hash": "3dab257154db2510f00cbbd6ae66794d1e69468ef24d3ab7de13c2c98de99f40"
   }
  }
 },
 "nbformat": 4,
 "nbformat_minor": 2
}
