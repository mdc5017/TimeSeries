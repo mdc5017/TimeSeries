{
 "cells": [
  {
   "cell_type": "code",
   "execution_count": 23,
   "metadata": {},
   "outputs": [],
   "source": [
    "import pandas as pd\n",
    "from pandas_datareader import data as pdr\n",
    "import yfinance\n",
    "import numpy as np\n",
    "import datetime as dt\n",
    "import matplotlib.pyplot as plt"
   ]
  },
  {
   "attachments": {},
   "cell_type": "markdown",
   "metadata": {},
   "source": [
    "### Calculate periodic returns of the portfolio"
   ]
  },
  {
   "cell_type": "code",
   "execution_count": 18,
   "metadata": {},
   "outputs": [
    {
     "name": "stdout",
     "output_type": "stream",
     "text": [
      "[*********************100%***********************]  3 of 3 completed\n"
     ]
    },
    {
     "data": {
      "text/html": [
       "<div>\n",
       "<style scoped>\n",
       "    .dataframe tbody tr th:only-of-type {\n",
       "        vertical-align: middle;\n",
       "    }\n",
       "\n",
       "    .dataframe tbody tr th {\n",
       "        vertical-align: top;\n",
       "    }\n",
       "\n",
       "    .dataframe thead th {\n",
       "        text-align: right;\n",
       "    }\n",
       "</style>\n",
       "<table border=\"1\" class=\"dataframe\">\n",
       "  <thead>\n",
       "    <tr style=\"text-align: right;\">\n",
       "      <th></th>\n",
       "      <th>AAPL</th>\n",
       "      <th>C</th>\n",
       "      <th>DIS</th>\n",
       "    </tr>\n",
       "    <tr>\n",
       "      <th>Date</th>\n",
       "      <th></th>\n",
       "      <th></th>\n",
       "      <th></th>\n",
       "    </tr>\n",
       "  </thead>\n",
       "  <tbody>\n",
       "    <tr>\n",
       "      <th>2023-04-20</th>\n",
       "      <td>-0.005846</td>\n",
       "      <td>-0.019841</td>\n",
       "      <td>-0.006886</td>\n",
       "    </tr>\n",
       "    <tr>\n",
       "      <th>2023-04-21</th>\n",
       "      <td>-0.009781</td>\n",
       "      <td>-0.007490</td>\n",
       "      <td>0.015295</td>\n",
       "    </tr>\n",
       "    <tr>\n",
       "      <th>2023-04-24</th>\n",
       "      <td>0.001879</td>\n",
       "      <td>0.000000</td>\n",
       "      <td>0.001105</td>\n",
       "    </tr>\n",
       "    <tr>\n",
       "      <th>2023-04-25</th>\n",
       "      <td>-0.009436</td>\n",
       "      <td>-0.023047</td>\n",
       "      <td>-0.016754</td>\n",
       "    </tr>\n",
       "    <tr>\n",
       "      <th>2023-04-26</th>\n",
       "      <td>-0.000061</td>\n",
       "      <td>-0.021712</td>\n",
       "      <td>-0.014284</td>\n",
       "    </tr>\n",
       "  </tbody>\n",
       "</table>\n",
       "</div>"
      ],
      "text/plain": [
       "                AAPL         C       DIS\n",
       "Date                                    \n",
       "2023-04-20 -0.005846 -0.019841 -0.006886\n",
       "2023-04-21 -0.009781 -0.007490  0.015295\n",
       "2023-04-24  0.001879  0.000000  0.001105\n",
       "2023-04-25 -0.009436 -0.023047 -0.016754\n",
       "2023-04-26 -0.000061 -0.021712 -0.014284"
      ]
     },
     "execution_count": 18,
     "metadata": {},
     "output_type": "execute_result"
    }
   ],
   "source": [
    "# Create our portfolio of equities\n",
    "tickers = ['AAPL', 'C', 'DIS']\n",
    "\n",
    "# Set the investment weights (I arbitrarily picked for example)\n",
    "weights = np.array([.35, .25, .4])\n",
    "\n",
    "\n",
    "# Set an initial investment level\n",
    "initial_investment = 1000000\n",
    "\n",
    "# Download closing prices\n",
    "data = yfinance.download(tickers=tickers, interval='1d', group_by='ticker',\n",
    "                            auto_adjust=True, threads=True, start=\"2018-01-01\", end=dt.date.today())\n",
    "\n",
    "df = pd.DataFrame()\n",
    "df['AAPL'] = data['AAPL'].Close\n",
    "df['C'] = data['C'].Close\n",
    "df['DIS'] = data['DIS'].Close\n",
    "\n",
    "# data = pdr.get_data_yahoo(tickers, start=\"2018-01-01\", end=dt.date.today())['Close']\n",
    "\n",
    "#From the closing prices, calculate periodic returns\n",
    "returns = df.pct_change()\n",
    "\n",
    "returns.tail()"
   ]
  },
  {
   "attachments": {},
   "cell_type": "markdown",
   "metadata": {},
   "source": [
    "### Create covariance matrix"
   ]
  },
  {
   "cell_type": "code",
   "execution_count": 19,
   "metadata": {},
   "outputs": [
    {
     "data": {
      "text/html": [
       "<div>\n",
       "<style scoped>\n",
       "    .dataframe tbody tr th:only-of-type {\n",
       "        vertical-align: middle;\n",
       "    }\n",
       "\n",
       "    .dataframe tbody tr th {\n",
       "        vertical-align: top;\n",
       "    }\n",
       "\n",
       "    .dataframe thead th {\n",
       "        text-align: right;\n",
       "    }\n",
       "</style>\n",
       "<table border=\"1\" class=\"dataframe\">\n",
       "  <thead>\n",
       "    <tr style=\"text-align: right;\">\n",
       "      <th></th>\n",
       "      <th>AAPL</th>\n",
       "      <th>C</th>\n",
       "      <th>DIS</th>\n",
       "    </tr>\n",
       "  </thead>\n",
       "  <tbody>\n",
       "    <tr>\n",
       "      <th>AAPL</th>\n",
       "      <td>0.000431</td>\n",
       "      <td>0.000237</td>\n",
       "      <td>0.000205</td>\n",
       "    </tr>\n",
       "    <tr>\n",
       "      <th>C</th>\n",
       "      <td>0.000237</td>\n",
       "      <td>0.000583</td>\n",
       "      <td>0.000298</td>\n",
       "    </tr>\n",
       "    <tr>\n",
       "      <th>DIS</th>\n",
       "      <td>0.000205</td>\n",
       "      <td>0.000298</td>\n",
       "      <td>0.000415</td>\n",
       "    </tr>\n",
       "  </tbody>\n",
       "</table>\n",
       "</div>"
      ],
      "text/plain": [
       "          AAPL         C       DIS\n",
       "AAPL  0.000431  0.000237  0.000205\n",
       "C     0.000237  0.000583  0.000298\n",
       "DIS   0.000205  0.000298  0.000415"
      ]
     },
     "execution_count": 19,
     "metadata": {},
     "output_type": "execute_result"
    }
   ],
   "source": [
    "# Generate Var-Cov matrix\n",
    "cov_matrix = returns.cov()\n",
    "cov_matrix"
   ]
  },
  {
   "attachments": {},
   "cell_type": "markdown",
   "metadata": {},
   "source": [
    "### Calculate portfolio mean and standard deviation"
   ]
  },
  {
   "cell_type": "code",
   "execution_count": 20,
   "metadata": {},
   "outputs": [],
   "source": [
    "# Calculate the portfolio mean and standard deviation\n",
    "avg_rets = returns.mean()\n",
    "\n",
    "# Calculate mean returns for portfolio overall\n",
    "# using dot product to normalise individual means agains investment weights\n",
    "port_mean = avg_rets.dot(weights)\n",
    "\n",
    "# Calculate portfolio standard deviation\n",
    "port_stdev = np.sqrt(weights.T.dot(cov_matrix).dot(weights))\n",
    "\n",
    "# Calculate mean of investment\n",
    "mean_investment = (1+port_mean)*initial_investment\n",
    "\n",
    "# Calculate standard deviation of investment\n",
    "stdev_investment = initial_investment * port_stdev"
   ]
  },
  {
   "attachments": {},
   "cell_type": "markdown",
   "metadata": {},
   "source": [
    "### Calculate the inverse of the normal cumulative distribution (PPF) with a specified confidence interval, standard deviation, and mean"
   ]
  },
  {
   "cell_type": "code",
   "execution_count": 21,
   "metadata": {},
   "outputs": [],
   "source": [
    "# Select our confidence interval (95%)\n",
    "conf_level1 = 0.05\n",
    "\n",
    "# Using SciPy ppf method to generate values for the inverse cumulative distribution function to a normal distribution\n",
    "# Pluggin in the mean, standard deviation of our portfolio as calculated abouve\n",
    "from scipy.stats import norm\n",
    "cutoff1 = norm.ppf(conf_level1, mean_investment, stdev_investment)"
   ]
  },
  {
   "attachments": {},
   "cell_type": "markdown",
   "metadata": {},
   "source": [
    "### Estimate the value at risk (VaR) for the portfolio by substracting the initial investment from the calculation in step 4"
   ]
  },
  {
   "cell_type": "code",
   "execution_count": 22,
   "metadata": {},
   "outputs": [
    {
     "data": {
      "text/plain": [
       "28653.995707771974"
      ]
     },
     "execution_count": 22,
     "metadata": {},
     "output_type": "execute_result"
    }
   ],
   "source": [
    "# Finally, we can calculate the VaR at our confidence interval\n",
    "var_1d1 = initial_investment - cutoff1\n",
    "var_1d1"
   ]
  },
  {
   "attachments": {},
   "cell_type": "markdown",
   "metadata": {},
   "source": [
    "Here we are saying with 95% confidence that our portfolio of 1M USD will not exceed losses greater than 28.6k USD over a one day period."
   ]
  },
  {
   "attachments": {},
   "cell_type": "markdown",
   "metadata": {},
   "source": [
    "### Value at risk over n-day time period"
   ]
  },
  {
   "cell_type": "code",
   "execution_count": 24,
   "metadata": {},
   "outputs": [
    {
     "name": "stdout",
     "output_type": "stream",
     "text": [
      "1 day VaR @ 95% confidence: 28654.0\n",
      "2 day VaR @ 95% confidence: 40522.87\n",
      "3 day VaR @ 95% confidence: 49630.18\n",
      "4 day VaR @ 95% confidence: 57307.99\n",
      "5 day VaR @ 95% confidence: 64072.28\n",
      "6 day VaR @ 95% confidence: 70187.67\n",
      "7 day VaR @ 95% confidence: 75811.35\n",
      "8 day VaR @ 95% confidence: 81045.74\n",
      "9 day VaR @ 95% confidence: 85961.99\n",
      "10 day VaR @ 95% confidence: 90611.89\n",
      "11 day VaR @ 95% confidence: 95034.55\n",
      "12 day VaR @ 95% confidence: 99260.35\n",
      "13 day VaR @ 95% confidence: 103313.45\n",
      "14 day VaR @ 95% confidence: 107213.43\n",
      "15 day VaR @ 95% confidence: 110976.45\n"
     ]
    },
    {
     "data": {
      "text/plain": [
       "[<matplotlib.lines.Line2D at 0x7fe41e6ad940>]"
      ]
     },
     "execution_count": 24,
     "metadata": {},
     "output_type": "execute_result"
    },
    {
     "data": {
      "image/png": "[encoded data removed]",
      "text/plain": [
       "<Figure size 640x480 with 1 Axes>"
      ]
     },
     "metadata": {},
     "output_type": "display_data"
    }
   ],
   "source": [
    "# Calculate n Day VaR\n",
    "var_array = []\n",
    "num_days = int(15)\n",
    "for x in range(1, num_days+1):\n",
    "    var_array.append(np.round(var_1d1*np.sqrt(x),2))\n",
    "    print(str(x) + \" day VaR @ 95% confidence: \" + str(np.round(var_1d1 * np.sqrt(x),2)))\n",
    "\n",
    "# Build plot\n",
    "plt.xlabel(\"Day #\")\n",
    "plt.ylabel(\"Max portfolio loss (USD)\")\n",
    "plt.title(\"Max portfolio loss (VaR) over 15-day period\")\n",
    "plt.plot(var_array, \"r\")"
   ]
  },
  {
   "attachments": {},
   "cell_type": "markdown",
   "metadata": {},
   "source": [
    "### Checking distributions of our equities against normal distribution"
   ]
  },
  {
   "cell_type": "code",
   "execution_count": 49,
   "metadata": {},
   "outputs": [
    {
     "data": {
      "image/png": "[encoded data removed]",
      "text/plain": [
       "<Figure size 640x480 with 1 Axes>"
      ]
     },
     "metadata": {},
     "output_type": "display_data"
    }
   ],
   "source": [
    "from scipy.stats import norm\n",
    "import matplotlib.mlab as mlab\n",
    "import matplotlib.pyplot as plt\n",
    "\n",
    "# Repeat for each equity in portfolio\n",
    "returns['AAPL'].hist(bins=40,histtype=\"stepfilled\",alpha=0.5)\n",
    "x = np.linspace(port_mean - 3*port_stdev, port_mean+3*port_stdev,100)\n",
    "plt.plot(x, norm.pdf(x, port_mean, port_stdev), \"r\")\n",
    "plt.title(\"AAPL returns (binned) vs. normal distribution\")\n",
    "plt.show()"
   ]
  },
  {
   "cell_type": "code",
   "execution_count": null,
   "metadata": {},
   "outputs": [],
   "source": []
  }
 ],
 "metadata": {
  "kernelspec": {
   "display_name": "ds-env",
   "language": "python",
   "name": "python3"
  },
  "language_info": {
   "codemirror_mode": {
    "name": "ipython",
    "version": 3
   },
   "file_extension": ".py",
   "mimetype": "text/x-python",
   "name": "python",
   "nbconvert_exporter": "python",
   "pygments_lexer": "ipython3",
   "version": "3.9.13"
  },
  "orig_nbformat": 4,
  "vscode": {
   "interpreter": {
    "hash": "3dab257154db2510f00cbbd6ae66794d1e69468ef24d3ab7de13c2c98de99f40"
   }
  }
 },
 "nbformat": 4,
 "nbformat_minor": 2
}
